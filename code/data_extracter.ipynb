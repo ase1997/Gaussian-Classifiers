{
 "cells": [
  {
   "cell_type": "markdown",
   "id": "f496668d",
   "metadata": {},
   "source": [
    "# 1. Import Necessary Libraries"
   ]
  },
  {
   "cell_type": "code",
   "execution_count": 8,
   "id": "b0a6f1ba",
   "metadata": {},
   "outputs": [],
   "source": [
    "import glob\n",
    "import cv2\n",
    "import linecache\n",
    "import shutil\n",
    "import random"
   ]
  },
  {
   "cell_type": "markdown",
   "id": "f657a6ab",
   "metadata": {},
   "source": [
    "# 2. Extract Face and Non-Face Images"
   ]
  },
  {
   "cell_type": "code",
   "execution_count": 10,
   "id": "86c75743",
   "metadata": {},
   "outputs": [],
   "source": [
    "def bb_intersection_over_union(boxA, boxB):\n",
    "    # determine the (x, y)-coordinates of the intersection rectangle\n",
    "    xA = max(boxA[0], boxB[0])\n",
    "    yA = max(boxA[1], boxB[1])\n",
    "    xB = min(boxA[2], boxB[2])\n",
    "    yB = min(boxA[3], boxB[3])\n",
    "\n",
    "    # compute the area of intersection rectangle\n",
    "    interArea = (xB - xA) * (yB - yA)\n",
    "\n",
    "    # compute the area of both the prediction and ground-truth\n",
    "    # rectangles\n",
    "    boxAArea = (boxA[2] - boxA[0]) * (boxA[3] - boxA[1])\n",
    "    boxBArea = (boxB[2] - boxB[0]) * (boxB[3] - boxB[1])\n",
    "\n",
    "    # compute the intersection over union by taking the intersection\n",
    "    # area and dividing it by the sum of prediction + ground-truth\n",
    "    # areas - the interesection area\n",
    "    iou = interArea / float(boxAArea + boxBArea - interArea)\n",
    "\n",
    "    # return the intersection over union value\n",
    "    return iou\n",
    "\n",
    "def test_loop_condition(iou):\n",
    "    if iou < 0.3:\n",
    "        return False\n",
    "    else: return True\n",
    "\n",
    "dir = \"../FDDB/FDDB-folds/\"\n",
    "image_dir_in = \"../FDDB/originalPics/\"\n",
    "image_dir_out = \"../FDDB/posImages/\"\n",
    "neg_image_dir_out = \"../FDDB/negImages/\"\n",
    "im_format = \".jpg\"\n",
    "numb = [\"01\", \"02\", \"03\", \"04\", \"05\", \"06\", \"07\", \"08\", \"09\", \"10\"]\n",
    "count = 0\n",
    "neg_image_size = 10\n",
    "\n",
    "\n",
    "for num in numb:\n",
    "    filename_ellipse = dir+\"FDDB-fold-\"+num+\"-ellipseList.txt\"\n",
    "    filename_images = dir+\"FDDB-fold-\"+num+\".txt\"\n",
    "    file_images = open(filename_images,'r')\n",
    "    image_names = file_images.readlines()\n",
    "\n",
    "    for image_name in image_names:\n",
    "        with open(filename_ellipse,'r') as file_ellipse:\n",
    "            for num, line in enumerate(file_ellipse, 1):\n",
    "                if image_name in line:\n",
    "                    num_face_line = linecache.getline(filename_ellipse, (num+1))\n",
    "                    if num_face_line.strip() == \"1\":\n",
    "                        ellipse_dim = (linecache.getline(filename_ellipse, (num+2))).split()\n",
    "                        image = cv2.imread(image_dir_in+image_name.strip()+im_format)\n",
    "                        x1_postiv = int(float(ellipse_dim[3])-float(ellipse_dim[1]))            #//*\n",
    "                        x2_postiv = int(float(ellipse_dim[3])+float(ellipse_dim[1]))            #*Create bounding box coordinates for Face images\n",
    "                        y1_postiv = int(float(ellipse_dim[4])-float(ellipse_dim[0]))            #*\n",
    "                        y2_postiv = int(float(ellipse_dim[4])+float(ellipse_dim[0]))            #*//\n",
    "                        cropped_im = image[y1_postiv:y2_postiv,x1_postiv:x2_postiv]\n",
    "                        if (cropped_im.shape[0]) and (cropped_im.shape[1]):\n",
    "                            count = count+1\n",
    "                            cropped_im = cv2.resize(cropped_im, (10,10))\n",
    "                            cv2.imwrite(image_dir_out+\"img_\"+str(count)+im_format, cropped_im)\n",
    "                        condition = True\n",
    "                        loop_count = 0\n",
    "                        while condition:                                                        ## While condition to find random seeds until the overlap is less than threshold\n",
    "                            rand_seed_x = random.randint(0,image.shape[0]-10)                   ## Set random seed for Non-Face patch extraction\n",
    "                            rand_seed_y = random.randint(0,image.shape[1]-10)\n",
    "                            x2_neg = rand_seed_x+neg_image_size\n",
    "                            y2_neg = rand_seed_y+neg_image_size\n",
    "                            boxA = [x1_postiv,y1_postiv,x2_postiv,y2_postiv]\n",
    "                            boxB = [rand_seed_x,x2_neg,rand_seed_y,y2_neg]\n",
    "                            iou = bb_intersection_over_union(boxA,boxB)\n",
    "                            loop_count = loop_count+1\n",
    "                            condition = test_loop_condition(iou)                                ## Check overlap\n",
    "                        neg_image = image[rand_seed_y:y2_neg,rand_seed_x:x2_neg]\n",
    "                        if (neg_image.shape[0]) and (neg_image.shape[1]):\n",
    "                            count = count+1\n",
    "                            neg_image = cv2.resize(neg_image, (10, 10))\n",
    "                            cv2.imwrite(neg_image_dir_out+\"img_\"+str(count)+im_format, neg_image)"
   ]
  },
  {
   "cell_type": "code",
   "execution_count": null,
   "id": "3903b8f2",
   "metadata": {},
   "outputs": [],
   "source": []
  }
 ],
 "metadata": {
  "kernelspec": {
   "display_name": "Python 3",
   "language": "python",
   "name": "python3"
  },
  "language_info": {
   "codemirror_mode": {
    "name": "ipython",
    "version": 3
   },
   "file_extension": ".py",
   "mimetype": "text/x-python",
   "name": "python",
   "nbconvert_exporter": "python",
   "pygments_lexer": "ipython3",
   "version": "3.8.8"
  }
 },
 "nbformat": 4,
 "nbformat_minor": 5
}
